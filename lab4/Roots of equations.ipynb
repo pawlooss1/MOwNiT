{
 "cells": [
  {
   "cell_type": "code",
   "execution_count": 87,
   "metadata": {},
   "outputs": [],
   "source": [
    "import matplotlib.pyplot as plt\n",
    "import numpy as np"
   ]
  },
  {
   "cell_type": "code",
   "execution_count": 56,
   "metadata": {},
   "outputs": [],
   "source": [
    "def newton(f, f_1, x, nmax, epsilon):\n",
    "    fx = f(x)\n",
    "    for n in range(0, nmax):\n",
    "        fp = f_1(x)\n",
    "        d = fx / fp\n",
    "        x = x - d\n",
    "        fx = f(x)\n",
    "        if abs(d) < epsilon:\n",
    "            output = repr(n) + ' ' + repr(x) + ' ' + repr(fx)\n",
    "            print(output)\n",
    "            print('convergence')\n",
    "            return\n",
    "    print('not convergence')"
   ]
  },
  {
   "cell_type": "code",
   "execution_count": 70,
   "metadata": {},
   "outputs": [],
   "source": [
    "def derivative(f):\n",
    "    h = 1e-9\n",
    "    f_1 = lambda x : (f(x+h) - f(x-h)) / (2 * h)\n",
    "    return f_1"
   ]
  },
  {
   "cell_type": "code",
   "execution_count": 73,
   "metadata": {},
   "outputs": [],
   "source": [
    "def secant(f, a, b, nmax, epsilon):\n",
    "    fa = f(a)\n",
    "    fb = f(b)\n",
    "    if abs(fa) > abs(fb):\n",
    "        a, b = b, a\n",
    "        fa, fb = fb, fa\n",
    "    for n in range(0, nmax):\n",
    "        if abs(fa) > abs(fb):\n",
    "            a, b = b, a\n",
    "            fa, fb = fb, fa\n",
    "        d = (b - a) / (fb - fa)\n",
    "        b = a\n",
    "        fb = fa\n",
    "        d = d * fa\n",
    "        if abs(d) < epsilon:\n",
    "            output = repr(n) + ' ' + repr(a) + ' ' + repr(fa)\n",
    "            print(output)\n",
    "            return\n",
    "        a = a - d\n",
    "        fa = f(a)"
   ]
  },
  {
   "cell_type": "code",
   "execution_count": 76,
   "metadata": {},
   "outputs": [],
   "source": [
    "f = lambda x : x**5 + x**3 + 3"
   ]
  },
  {
   "cell_type": "code",
   "execution_count": 86,
   "metadata": {},
   "outputs": [
    {
     "name": "stdout",
     "output_type": "stream",
     "text": [
      "11 -1.1052985460061695 4.440892098500626e-16\n",
      "convergence\n"
     ]
    }
   ],
   "source": [
    "newton(f, f_1, 2, 20, 1e-9)"
   ]
  },
  {
   "cell_type": "code",
   "execution_count": 89,
   "metadata": {},
   "outputs": [
    {
     "name": "stdout",
     "output_type": "stream",
     "text": [
      "7 -1.1052985460060405 1.4357404154452524e-12\n"
     ]
    }
   ],
   "source": [
    "secant(f, -1, 1, 20, 1e-9)"
   ]
  },
  {
   "cell_type": "code",
   "execution_count": 103,
   "metadata": {},
   "outputs": [],
   "source": [
    "x = np.linspace(-2, 1, 21)\n",
    "y = f(x)"
   ]
  },
  {
   "cell_type": "code",
   "execution_count": 104,
   "metadata": {},
   "outputs": [
    {
     "data": {
      "text/plain": [
       "[<matplotlib.lines.Line2D at 0x7fd88f503518>]"
      ]
     },
     "execution_count": 104,
     "metadata": {},
     "output_type": "execute_result"
    },
    {
     "data": {
      "image/png": "[encoded data removed]",
      "text/plain": [
       "<Figure size 432x288 with 1 Axes>"
      ]
     },
     "metadata": {
      "needs_background": "light"
     },
     "output_type": "display_data"
    }
   ],
   "source": [
    "plt.plot(x, y, 'r')"
   ]
  }
 ],
 "metadata": {
  "kernelspec": {
   "display_name": "Python 3",
   "language": "python",
   "name": "python3"
  },
  "language_info": {
   "codemirror_mode": {
    "name": "ipython",
    "version": 3
   },
   "file_extension": ".py",
   "mimetype": "text/x-python",
   "name": "python",
   "nbconvert_exporter": "python",
   "pygments_lexer": "ipython3",
   "version": "3.7.1"
  }
 },
 "nbformat": 4,
 "nbformat_minor": 2
}
