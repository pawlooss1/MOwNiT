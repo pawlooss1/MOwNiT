{
 "cells": [
  {
   "cell_type": "code",
   "execution_count": 1,
   "metadata": {},
   "outputs": [],
   "source": [
    "import matplotlib.pyplot as plt\n",
    "import numpy as np"
   ]
  },
  {
   "cell_type": "code",
   "execution_count": null,
   "metadata": {},
   "outputs": [],
   "source": [
    "def newton1(f, f_1, x, nmax, epsilon):\n",
    "    fx = f(x)\n",
    "    for n in range(0, nmax):\n",
    "        x_old = x\n",
    "        fp = f_1(x)\n",
    "        d = fx / fp\n",
    "        x = x - d\n",
    "        fx = f(x)\n",
    "        if abs(x - x_old) < epsilon:\n",
    "            return x, n, fx\n",
    "    return 'nie zbieżne', 'nie zbieżne', 'nie zbieżne'"
   ]
  },
  {
   "cell_type": "code",
   "execution_count": null,
   "metadata": {},
   "outputs": [],
   "source": [
    "def newton2(f, f_1, x, nmax, epsilon):\n",
    "    fx = f(x)\n",
    "    for n in range(0, nmax):\n",
    "        fp = f_1(x)\n",
    "        d = fx / fp\n",
    "        x = x - d\n",
    "        fx = f(x)\n",
    "        if abs(fx) < epsilon:\n",
    "            return x, n, fx\n",
    "    return 'nie zbieżne', 'nie zbieżne', 'nie zbieżne'"
   ]
  },
  {
   "cell_type": "code",
   "execution_count": null,
   "metadata": {},
   "outputs": [],
   "source": [
    "def derivative(f):\n",
    "    h = 1e-9\n",
    "    f_1 = lambda x : (f(x+h) - f(x-h)) / (2 * h)\n",
    "    return f_1"
   ]
  },
  {
   "cell_type": "code",
   "execution_count": null,
   "metadata": {},
   "outputs": [],
   "source": [
    "def secant1(f, a, b, nmax, epsilon):\n",
    "    fa = f(a)\n",
    "    fb = f(b)\n",
    "    if abs(fa) > abs(fb):\n",
    "        a, b = b, a\n",
    "        fa, fb = fb, fa\n",
    "    for n in range(0, nmax):\n",
    "        if abs(fa) > abs(fb):\n",
    "            a, b = b, a\n",
    "            fa, fb = fb, fa\n",
    "        d = (b - a) / (fb - fa)\n",
    "        b = a\n",
    "        fb = fa\n",
    "        d = d * fa\n",
    "        a = a - d\n",
    "        fa = f(a)\n",
    "        if abs(a - b) < epsilon:\n",
    "            return a, n, fa\n",
    "    return 'nie zbieżne', 'nie zbieżne', 'nie zbieżne'"
   ]
  },
  {
   "cell_type": "code",
   "execution_count": null,
   "metadata": {},
   "outputs": [],
   "source": [
    "def secant2(f, a, b, nmax, epsilon):\n",
    "    fa = f(a)\n",
    "    fb = f(b)\n",
    "    if abs(fa) > abs(fb):\n",
    "        a, b = b, a\n",
    "        fa, fb = fb, fa\n",
    "    for n in range(0, nmax):\n",
    "        if abs(fa) > abs(fb):\n",
    "            a, b = b, a\n",
    "            fa, fb = fb, fa\n",
    "        d = (b - a) / (fb - fa)\n",
    "        b = a\n",
    "        fb = fa\n",
    "        d = d * fa\n",
    "        a = a - d\n",
    "        fa = f(a)\n",
    "        if abs(fa) < epsilon:\n",
    "            return a, n, fa\n",
    "    return 'not convergence', 'nie zbieżne', 'nie zbieżne'"
   ]
  },
  {
   "cell_type": "code",
   "execution_count": null,
   "metadata": {},
   "outputs": [],
   "source": [
    "f = lambda x : (x - 1) * np.exp(-10 * x) + x**15\n",
    "f_1 = lambda x: np.exp(-10 * x) * (1 - 10 * (x - 1)) + 15 * x**(14)\n",
    "X = np.linspace(-1, 0.7, 18)\n",
    "ro = 0.0001\n",
    "print('Newton:')\n",
    "for x_start in X:\n",
    "    print('x_pocz: %.1f' % x_start, 'ro: ', ro)\n",
    "    result, n, fx = newton1(f, f_1, x_start, 1000, ro)\n",
    "    print('wynik 1 kryterium: n =', n, ' x_0 =', result, ' f(x_0) =', fx)\n",
    "    result, n, fx = newton2(f, f_1, x_start, 1000, ro)\n",
    "    print('wynik 2 kryterium: n =', n, ' x_0 =', result, ' f(x_0) =', fx)\n",
    "    print('')"
   ]
  },
  {
   "cell_type": "code",
   "execution_count": null,
   "metadata": {},
   "outputs": [],
   "source": [
    "f = lambda x : (x - 1) * math.exp(-10 * x) + x**15\n",
    "X = np.linspace(-0.9, 0.6, 16)\n",
    "ro = 0.0001\n",
    "print('Sieczne:')\n",
    "for x_start in X:\n",
    "    print('Przedzial [-1, %.1f]' % x_start, 'ro: ', ro)\n",
    "    result, n, fx = secant1(f, -1.0, x_start, 100, ro)\n",
    "    print('wynik 1 kryterium: n =', n, ' x_0 =', result, ' f(x_0) =', fx)\n",
    "    result, n, fx = secant2(f, -1.0, 0.5, 100, ro)\n",
    "    print('wynik 2 kryterium: n =', n, ' x_0 =', result, ' f(x_0) =', fx)\n",
    "    print('Przedzial [%.1f, 0.7]' % x_start, 'ro: ', ro)\n",
    "    result, n, fx = secant1(f, 0.7, x_start, 100, ro)\n",
    "    print('wynik 1 kryterium: n =', n, ' x_0 =', result, ' f(x_0) =', fx)\n",
    "    result, n, fx = secant2(f, 0.7, x_start, 100, ro)\n",
    "    print('wynik 2 kryterium: n =', n, ' x_0 =', result, ' f(x_0) =', fx)\n",
    "    print('')"
   ]
  },
  {
   "cell_type": "code",
   "execution_count": null,
   "metadata": {},
   "outputs": [],
   "source": [
    "f = lambda x : (x - 1) * math.exp(-10 * x) + x**15\n",
    "X = np.linspace(-0.9, 0.6, 16)\n",
    "ro = 0.00001\n",
    "print('Sieczne:')\n",
    "for x_start in X:\n",
    "    print('Przedzial [-1, %.1f]' % x_start, 'ro: ', ro)\n",
    "    result, n, fx = secant1(f, -1.0, x_start, 100, ro)\n",
    "    print('wynik 1 kryterium: n =', n, ' x_0 =', result, ' f(x_0) =', fx)\n",
    "    result, n, fx = secant2(f, -1.0, 0.5, 100, ro)\n",
    "    print('wynik 2 kryterium: n =', n, ' x_0 =', result, ' f(x_0) =', fx)\n",
    "    print('Przedzial [%.1f, 0.7]' % x_start, 'ro: ', ro)\n",
    "    result, n, fx = secant1(f, 0.7, x_start, 100, ro)\n",
    "    print('wynik 1 kryterium: n =', n, ' x_0 =', result, ' f(x_0) =', fx)\n",
    "    result, n, fx = secant2(f, 0.7, x_start, 100, ro)\n",
    "    print('wynik 2 kryterium: n =', n, ' x_0 =', result, ' f(x_0) =', fx)\n",
    "    print('')"
   ]
  },
  {
   "cell_type": "code",
   "execution_count": 3,
   "metadata": {},
   "outputs": [],
   "source": [
    "f1 = lambda x1, x2, x3 : x1**2 + x2**2 - x3**2 - 1\n",
    "f2 = lambda x1, x2, x3 : x1 - 2 * x2**3 + 2 * x3**2 + 1\n",
    "f3 = lambda x1, x2, x3 : 2 * x1**2 + x2 - 2 * x3**2 - 1\n",
    "df1_dx1 = lambda x1, x2, x3 : 2 * x1\n",
    "df1_dx2 = lambda x1, x2, x3 : 2 * x2\n",
    "df1_dx3 = lambda x1, x2, x3 : - 2 * x3\n",
    "df2_dx1 = lambda x1, x2, x3 : 1\n",
    "df2_dx2 = lambda x1, x2, x3 : - 6 * x2**2\n",
    "df2_dx3 = lambda x1, x2, x3 : 2 * x3\n",
    "df3_dx1 = lambda x1, x2, x3 : 4 * x1\n",
    "df3_dx2 = lambda x1, x2, x3 : 1\n",
    "df3_dx3 = lambda x1, x2, x3 : - 4 * x3"
   ]
  },
  {
   "cell_type": "code",
   "execution_count": 4,
   "metadata": {},
   "outputs": [],
   "source": [
    "F = np.array([[f1], [f2], [f3]])\n",
    "J = np.array([[df1_dx1, df1_dx2, df1_dx3], [df2_dx1, df2_dx2, df2_dx3], [df3_dx1, df3_dx2, df3_dx3]])\n",
    "X = np.array([[1], [1], [1]])"
   ]
  },
  {
   "cell_type": "code",
   "execution_count": null,
   "metadata": {},
   "outputs": [],
   "source": [
    "apply_func_vect(J,X)"
   ]
  },
  {
   "cell_type": "code",
   "execution_count": 6,
   "metadata": {},
   "outputs": [
    {
     "data": {
      "text/plain": [
       "dtype('int64')"
      ]
     },
     "execution_count": 6,
     "metadata": {},
     "output_type": "execute_result"
    }
   ],
   "source": [
    "X.dtype"
   ]
  },
  {
   "cell_type": "code",
   "execution_count": 7,
   "metadata": {},
   "outputs": [],
   "source": [
    "def apply_func_vect(F, X):\n",
    "    X = X.transpose().tolist()[0]\n",
    "    rows, cols = F.shape\n",
    "    F_X = []\n",
    "    for i in range(rows):\n",
    "        for j in range(cols):\n",
    "            F_X.append(F[i][j](*X))\n",
    "    return np.array(F_X).reshape(F.shape)"
   ]
  },
  {
   "cell_type": "code",
   "execution_count": 8,
   "metadata": {},
   "outputs": [],
   "source": [
    "def newton_system1(F, J, X, epsilon):\n",
    "    for i in range(100):\n",
    "        F_X = apply_func_vect(F, X)\n",
    "        J_X = apply_func_vect(J,X)\n",
    "        H = np.linalg.solve(J_X, F_X)\n",
    "        X = X - H\n",
    "        if np.linalg.norm(H) < epsilon:\n",
    "            return X, i\n",
    "    return 'nie zbieżne'"
   ]
  },
  {
   "cell_type": "code",
   "execution_count": 9,
   "metadata": {},
   "outputs": [],
   "source": [
    "def newton_system2(F, J, X, epsilon):\n",
    "    for i in range(100):\n",
    "        F_X = apply_func_vect(F, X)\n",
    "        J_X = apply_func_vect(J,X)\n",
    "        H = np.linalg.solve(J_X, F_X)\n",
    "        X = X - H\n",
    "        if np.linalg.norm(F_X) < epsilon:\n",
    "            return X, i\n",
    "    return 'nie zbieżne'"
   ]
  },
  {
   "cell_type": "code",
   "execution_count": 11,
   "metadata": {},
   "outputs": [
    {
     "data": {
      "text/plain": [
       "dtype('float64')"
      ]
     },
     "execution_count": 11,
     "metadata": {},
     "output_type": "execute_result"
    }
   ],
   "source": [
    "a, b = newton_system1(F, J, X, 0.0001)\n",
    "a.dtype"
   ]
  },
  {
   "cell_type": "code",
   "execution_count": null,
   "metadata": {},
   "outputs": [],
   "source": [
    "newton_system2(F, J, X, 0.0001)"
   ]
  },
  {
   "cell_type": "code",
   "execution_count": null,
   "metadata": {},
   "outputs": [],
   "source": []
  }
 ],
 "metadata": {
  "kernelspec": {
   "display_name": "Python 3",
   "language": "python",
   "name": "python3"
  },
  "language_info": {
   "codemirror_mode": {
    "name": "ipython",
    "version": 3
   },
   "file_extension": ".py",
   "mimetype": "text/x-python",
   "name": "python",
   "nbconvert_exporter": "python",
   "pygments_lexer": "ipython3",
   "version": "3.7.1"
  }
 },
 "nbformat": 4,
 "nbformat_minor": 2
}
