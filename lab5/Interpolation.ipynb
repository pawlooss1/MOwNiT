{
 "cells": [
  {
   "cell_type": "code",
   "execution_count": 1,
   "metadata": {},
   "outputs": [],
   "source": [
    "import numpy as np\n",
    "import matplotlib.pyplot as plt"
   ]
  },
  {
   "cell_type": "code",
   "execution_count": 2,
   "metadata": {},
   "outputs": [],
   "source": [
    "POINTS = 500"
   ]
  },
  {
   "cell_type": "code",
   "execution_count": 3,
   "metadata": {},
   "outputs": [],
   "source": [
    "def lagrange_interpolation(X, Y, x):\n",
    "    result = 0\n",
    "    n = len(X)\n",
    "    for i in range(n):\n",
    "        li = Y[i]\n",
    "        for j in range(n):\n",
    "            if i != j:\n",
    "                li *= (x - X[j]) / (X[i] - X[j])\n",
    "        result += li\n",
    "    return result"
   ]
  },
  {
   "cell_type": "code",
   "execution_count": 4,
   "metadata": {},
   "outputs": [],
   "source": [
    "def calculate_coefficients(X, Y):\n",
    "    n = len(X)\n",
    "    A = np.empty((n, n))\n",
    "    for i in range(n):\n",
    "        A[i][0] = Y[i]\n",
    "    for j in range(1,n):\n",
    "        for i in range(n-j):\n",
    "            A[i][j] = (A[i+1][j-1] - A[i][j-1]) / (X[i+j] - X[i])\n",
    "    return A[0]"
   ]
  },
  {
   "cell_type": "code",
   "execution_count": 5,
   "metadata": {},
   "outputs": [],
   "source": [
    "def newton_interpolation(X, Y, x):\n",
    "    result = 0\n",
    "    n = len(X)\n",
    "    A = calculate_coefficients(X, Y)\n",
    "    for i in range(n):\n",
    "        product = A[i]\n",
    "        for j in range(i):\n",
    "            product *= (x - X[j])\n",
    "        result += product\n",
    "    return result"
   ]
  },
  {
   "cell_type": "code",
   "execution_count": 6,
   "metadata": {},
   "outputs": [],
   "source": [
    "def chebyshev_roots(n):\n",
    "    return np.flip(np.fromfunction(lambda i: np.cos(np.pi * (i + 0.5) / n), (n, )))"
   ]
  },
  {
   "cell_type": "code",
   "execution_count": 7,
   "metadata": {},
   "outputs": [],
   "source": [
    "def chebyshev_nodes(a, b, n):\n",
    "    if a > b:\n",
    "        a, b = b, a\n",
    "    roots = chebyshev_roots(n)\n",
    "    stretch = (b - a) / 2\n",
    "    return (roots + 1) * stretch + a"
   ]
  },
  {
   "cell_type": "code",
   "execution_count": 16,
   "metadata": {},
   "outputs": [],
   "source": [
    "def f(x):\n",
    "    return np.sin(2*x) * np.sin(x**2/np.pi)"
   ]
  },
  {
   "cell_type": "code",
   "execution_count": 17,
   "metadata": {},
   "outputs": [],
   "source": [
    "def f_1(x):\n",
    "    return 2 * np.cos(2*x) * np.sin(x**2/np.pi) + (2*x / np.pi) * np.sin(2*x) * np.cos(x**2/np.pi)"
   ]
  },
  {
   "cell_type": "code",
   "execution_count": 9,
   "metadata": {},
   "outputs": [],
   "source": [
    "def interpolate_lagrange(a, b, n):\n",
    "    x_inter = np.linspace(a, b, n)\n",
    "    x_print = np.linspace(a, b, POINTS)\n",
    "    y_inter = f(x_inter)\n",
    "    y_print = f(x_print)\n",
    "    p_print = np.empty(POINTS)\n",
    "    for i in range(POINTS):\n",
    "        p_print[i] = lagrange_interpolation(x_inter, y_inter, x_print[i])\n",
    "    return x_inter, x_print, y_inter, y_print, p_print"
   ]
  },
  {
   "cell_type": "code",
   "execution_count": 10,
   "metadata": {},
   "outputs": [],
   "source": [
    "def print_interpolation_plots_lagrange_ch(n):\n",
    "    X_inter = chebyshev_nodes(-np.pi, 2*np.pi, n)\n",
    "    X_print = np.linspace(-np.pi, 2*np.pi, 500)\n",
    "    Y_inter = f(X_inter)\n",
    "    Y_print = f(X_print)\n",
    "    P_print = np.empty(500)\n",
    "    for i in range(500):\n",
    "        P_print[i] = lagrange_interpolation(X_inter, Y_inter, X_print[i])\n",
    "    print('Liczba węzłów:', n)\n",
    "    print('Błąd interpolacji(norma euklidesowa):', np.linalg.norm(Y_print-P_print) / 500)\n",
    "    print('Błąd interpolacji(norma maksimum):', np.linalg.norm(Y_print-P_print, ord=np.inf))\n",
    "    fig = plt.figure()\n",
    "    ax = fig.add_axes([0,0,1,1])\n",
    "    ax.plot(X_print, P_print, label=\"W(x)\")\n",
    "    ax.plot(X_print, Y_print, label=\"f(x)\")\n",
    "    ax.plot(X_inter, Y_inter, '*', label='Węzły interpolacji')\n",
    "    ax.legend()\n",
    "    plt.show()"
   ]
  },
  {
   "cell_type": "code",
   "execution_count": 11,
   "metadata": {},
   "outputs": [],
   "source": [
    "def interpolate_newton(a, b, n):\n",
    "    X_inter = np.linspace(a, b, n)\n",
    "    X_print = np.linspace(a, b, POINTS)\n",
    "    Y_inter = f(X_inter)\n",
    "    Y_print = f(X_print)\n",
    "    P_print = np.empty(POINTS)\n",
    "    for i in range(POINTS):\n",
    "        P_print[i] = newton_interpolation(X_inter, Y_inter, X_print[i])\n",
    "    return X_inter, X_print, Y_inter, Y_print, P_print"
   ]
  },
  {
   "cell_type": "code",
   "execution_count": 12,
   "metadata": {},
   "outputs": [],
   "source": [
    "def print_errors(Y_print, P_print):\n",
    "    print('Błąd interpolacji(norma euklidesowa):', np.linalg.norm(Y_print-P_print) / POINTS)\n",
    "    print('Błąd interpolacji(norma maksimum):', np.linalg.norm(Y_print-P_print, ord=np.inf))"
   ]
  },
  {
   "cell_type": "code",
   "execution_count": 13,
   "metadata": {},
   "outputs": [],
   "source": [
    "def print_plots(x_inter, x_print, y_inter, y_print, p_print):\n",
    "    fig = plt.figure()\n",
    "    ax = fig.add_axes([0, 0, 1, 1])\n",
    "    ax.plot(x_print, p_print, label=\"W(x)\")\n",
    "    ax.plot(x_print, y_print, label=\"f(x)\")\n",
    "    ax.plot(x_inter, y_inter, '*', label='Węzły interpolacji')\n",
    "    ax.set_title('elo')\n",
    "    ax.set_ylabel('y')\n",
    "    ax.set_xlabel('x')\n",
    "    ax.legend()\n",
    "    plt.show()"
   ]
  },
  {
   "cell_type": "code",
   "execution_count": 14,
   "metadata": {},
   "outputs": [],
   "source": [
    "def exercise_newton(a, b, n):\n",
    "    print('Liczba węzłów:', n)\n",
    "    X_inter, X_print, Y_inter, Y_print, P_print = interpolate_newton(a, b, n)\n",
    "    print_errors(Y_print, P_print)\n",
    "    print_plots(X_inter, X_print, Y_inter, Y_print, P_print)"
   ]
  },
  {
   "cell_type": "code",
   "execution_count": 63,
   "metadata": {},
   "outputs": [],
   "source": [
    "def exercise_lagrange(a, b, n):\n",
    "    print('Liczba węzłów:', n)\n",
    "    X_inter, X_print, Y_inter, Y_print, P_print = interpolate_lagrange(a, b, n)\n",
    "    print_errors(Y_print, P_print)\n",
    "    print_plots(X_inter, X_print, Y_inter, Y_print, P_print)"
   ]
  },
  {
   "cell_type": "markdown",
   "metadata": {},
   "source": [
    "Exercise2"
   ]
  },
  {
   "cell_type": "code",
   "execution_count": 62,
   "metadata": {},
   "outputs": [],
   "source": [
    "def calculate_hermite_coefficients(X, f, f_1):\n",
    "    n = 2 * len(X)\n",
    "    x = np.empty(n)\n",
    "    for i in range(n):\n",
    "        x[i] = X[(i//2)]\n",
    "    A = np.empty((n, n))\n",
    "    for i in range(n):\n",
    "        A[i][0] = f(x[i])\n",
    "    for i in range(0, n, 2):\n",
    "        A[i][1] = f_1(x[i])\n",
    "    for i in range(1, n-1, 2):\n",
    "        A[i][1] = (A[i+1][0] - A[i][0]) / (x[i+1] - x[i])\n",
    "    for j in range(2,n):\n",
    "        for i in range(n - j):\n",
    "            A[i][j] = (A[i+1][j-1] - A[i][j-1]) / (x[i+j] - x[i])\n",
    "    return A[0]"
   ]
  },
  {
   "cell_type": "code",
   "execution_count": 64,
   "metadata": {},
   "outputs": [],
   "source": [
    "def hermite_interpolation(X, f, f_1, x):\n",
    "    result = 0\n",
    "    n = 2 * len(X)\n",
    "    A = calculate_hermite_coefficients(X, f, f_1)\n",
    "    for i in range(n):\n",
    "        product = A[i]\n",
    "        for j in range(i):\n",
    "            product *= (x - X[j])\n",
    "        result += product\n",
    "    return result"
   ]
  },
  {
   "cell_type": "code",
   "execution_count": 61,
   "metadata": {},
   "outputs": [
    {
     "name": "stdout",
     "output_type": "stream",
     "text": [
      "[2. 3. 1. 2.]\n"
     ]
    }
   ],
   "source": []
  },
  {
   "cell_type": "code",
   "execution_count": 43,
   "metadata": {},
   "outputs": [
    {
     "data": {
      "text/plain": [
       "2"
      ]
     },
     "execution_count": 43,
     "metadata": {},
     "output_type": "execute_result"
    }
   ],
   "source": [
    "len(np.array([1,2]))"
   ]
  }
 ],
 "metadata": {
  "kernelspec": {
   "display_name": "Python 3",
   "language": "python",
   "name": "python3"
  },
  "language_info": {
   "codemirror_mode": {
    "name": "ipython",
    "version": 3
   },
   "file_extension": ".py",
   "mimetype": "text/x-python",
   "name": "python",
   "nbconvert_exporter": "python",
   "pygments_lexer": "ipython3",
   "version": "3.7.1"
  }
 },
 "nbformat": 4,
 "nbformat_minor": 2
}
