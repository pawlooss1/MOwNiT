{
 "cells": [
  {
   "cell_type": "code",
   "execution_count": 78,
   "metadata": {},
   "outputs": [],
   "source": [
    "import numpy as np\n",
    "import matplotlib.pyplot as plt"
   ]
  },
  {
   "cell_type": "code",
   "execution_count": 79,
   "metadata": {},
   "outputs": [],
   "source": [
    "POINTS = 500"
   ]
  },
  {
   "cell_type": "code",
   "execution_count": 80,
   "metadata": {},
   "outputs": [],
   "source": [
    "def f(x):\n",
    "    return np.sin(2*x) * np.sin(x**2/np.pi)"
   ]
  },
  {
   "cell_type": "code",
   "execution_count": 81,
   "metadata": {},
   "outputs": [],
   "source": [
    "def monomial_base(i):\n",
    "    return lambda x: x**i"
   ]
  },
  {
   "cell_type": "code",
   "execution_count": 82,
   "metadata": {},
   "outputs": [],
   "source": [
    "def trigonomerical_base(i):\n",
    "    k = (i + 1) // 2\n",
    "    if i % 2 == 1:\n",
    "        return lambda x: np.sin(k * (x * 2 / 3 + np.pi))\n",
    "    return lambda x: np.cos(k * (x * 2 / 3 + np.pi))"
   ]
  },
  {
   "cell_type": "code",
   "execution_count": 83,
   "metadata": {},
   "outputs": [],
   "source": [
    "def calculate_matrix_elem(row, col, x_arr, wage_fun, base_generator):\n",
    "    fi_k = base_generator(row)\n",
    "    fi_j = base_generator(col)\n",
    "    return np.sum(wage_fun(x_arr) * fi_k(x_arr) * fi_j(x_arr))"
   ]
  },
  {
   "cell_type": "code",
   "execution_count": 84,
   "metadata": {},
   "outputs": [],
   "source": [
    "def calculate_vector_elem(row, x_arr, y_arr, wage_fun, base_generator):\n",
    "    fi_k = base_generator(row)\n",
    "    return np.sum(wage_fun(x_arr) * y_arr * fi_k(x_arr))"
   ]
  },
  {
   "cell_type": "code",
   "execution_count": 85,
   "metadata": {},
   "outputs": [],
   "source": [
    "def generate_eq_sys_matrix(m, x_arr, wage_fun, base_generator):\n",
    "    result = np.empty((m,m))\n",
    "    for i in range(m):\n",
    "        for j in range(m):\n",
    "            result[i][j] = calculate_matrix_elem(i, j, x_arr, wage_fun, base_generator)\n",
    "    return result"
   ]
  },
  {
   "cell_type": "code",
   "execution_count": 86,
   "metadata": {},
   "outputs": [],
   "source": [
    "def generate_eq_sys_dependent_vector(m, x_arr, y_arr, wage_fun, base_generator):\n",
    "    result = np.empty((m,))\n",
    "    for i in range(m):\n",
    "        result[i] = calculate_vector_elem(i, x_arr, y_arr, wage_fun, base_generator)\n",
    "    return result"
   ]
  },
  {
   "cell_type": "code",
   "execution_count": 87,
   "metadata": {},
   "outputs": [],
   "source": [
    "def compute_a_coeff(m, x_arr, y_arr, wage_fun, base_generator):\n",
    "    g = generate_eq_sys_matrix(m, x_arr, wage_fun, base_generator)\n",
    "    b = generate_eq_sys_dependent_vector(m, x_arr, y_arr, wage_fun, base_generator)\n",
    "    return np.linalg.solve(g, b)"
   ]
  },
  {
   "cell_type": "code",
   "execution_count": 88,
   "metadata": {},
   "outputs": [],
   "source": [
    "def print_errors(y_print, p_print):\n",
    "    print('Błąd interpolacji(norma euklidesowa):', np.linalg.norm(y_print-p_print) / POINTS)\n",
    "    print('Błąd interpolacji(norma maksimum):', np.linalg.norm(y_print-p_print, ord=np.inf))"
   ]
  },
  {
   "cell_type": "code",
   "execution_count": 89,
   "metadata": {},
   "outputs": [],
   "source": [
    "def print_plots(x_approx, x_print, y_approx, y_print, p_print):\n",
    "    fig = plt.figure()\n",
    "    ax = fig.add_axes([0, 0, 1, 1])\n",
    "    ax.plot(x_print, p_print, label=\"W(x)\")\n",
    "    ax.plot(x_print, y_print, label=\"f(x)\")\n",
    "    ax.plot(x_approx, y_approx, '*', label='Węzły aproksymacji')\n",
    "    ax.set_title('elo')\n",
    "    ax.set_ylabel('y')\n",
    "    ax.set_xlabel('x')\n",
    "    ax.legend()\n",
    "    plt.show()"
   ]
  },
  {
   "cell_type": "code",
   "execution_count": 90,
   "metadata": {},
   "outputs": [],
   "source": [
    "def calculate_polynomial_value(x, polynomial, m):\n",
    "    values = np.empty((m,))\n",
    "    for i in range(m):\n",
    "        monomial = polynomial[i]\n",
    "        values[i] = monomial(x)\n",
    "    return np.sum(values)"
   ]
  },
  {
   "cell_type": "code",
   "execution_count": 91,
   "metadata": {},
   "outputs": [],
   "source": [
    "def evaluate_fun(fun, x):\n",
    "    return fun(x)"
   ]
  },
  {
   "cell_type": "code",
   "execution_count": 92,
   "metadata": {},
   "outputs": [],
   "source": [
    "def evaluate_approximation_polynomial(x, a_coeff, base):\n",
    "    #if base == trigonomerical_base:\n",
    "    #    x = np.pi + x * 2 / 3\n",
    "    m = len(a_coeff)\n",
    "    values = [] #np.empty((m,))\n",
    "    for i in range(m):\n",
    "        monomial = base(i)\n",
    "        value = a_coeff[i] * monomial(x)\n",
    "        values.append(value) # = evaluate_fun(monomial, x)\n",
    "    return sum(values)"
   ]
  },
  {
   "cell_type": "code",
   "execution_count": 93,
   "metadata": {},
   "outputs": [],
   "source": [
    "def approximate(m, x_print, x_approx, y_approx, wage_fun, base_generator):\n",
    "    a = compute_a_coeff(m, x_approx, y_approx, wage_fun, base_generator)\n",
    "    return evaluate_approximation_polynomial(x_print, a, base_generator)"
   ]
  },
  {
   "cell_type": "code",
   "execution_count": 102,
   "metadata": {},
   "outputs": [],
   "source": [
    "def exercise(a, b, n, m, wage, base):\n",
    "    if base == trigonomerical_base:\n",
    "        plot_name = \"Liczba f. trygonometrycznych (m): {0:d}, liczba węzłów (n): {1:d}\".format(m, n)\n",
    "    else:\n",
    "        plot_name = \"Stopień wielomianu (m): {0:d}, liczba węzłów (n): {1:d}\".format(m, n)\n",
    "    m = m + 1\n",
    "    print(plot_name)\n",
    "    x_approx = np.linspace(a, b, n)\n",
    "    x_print = np.linspace(a, b, POINTS)\n",
    "    y_approx = f(x_approx)\n",
    "    y_print = f(x_print)\n",
    "    p_print = approximate(m, x_print, x_approx, y_approx, wage_fun=wage, base_generator=base)\n",
    "    eukl_n, max_n = calculate_errors(y_print, p_print)\n",
    "    print_errors(eukl_n, max_n)\n",
    "    print_plots(x_approx, x_print, y_approx, y_print, p_print, plot_name)\n",
    "    return eukl_n, max_n"
   ]
  },
  {
   "cell_type": "code",
   "execution_count": 103,
   "metadata": {
    "scrolled": false
   },
   "outputs": [
    {
     "ename": "TypeError",
     "evalue": "exercise() missing 1 required positional argument: 'base'",
     "output_type": "error",
     "traceback": [
      "\u001b[0;31m---------------------------------------------------------------------------\u001b[0m",
      "\u001b[0;31mTypeError\u001b[0m                                 Traceback (most recent call last)",
      "\u001b[0;32m<ipython-input-103-3def93080c5d>\u001b[0m in \u001b[0;36m<module>\u001b[0;34m\u001b[0m\n\u001b[0;32m----> 1\u001b[0;31m \u001b[0mexercise\u001b[0m\u001b[0;34m(\u001b[0m\u001b[0;34m-\u001b[0m\u001b[0mnp\u001b[0m\u001b[0;34m.\u001b[0m\u001b[0mpi\u001b[0m\u001b[0;34m,\u001b[0m \u001b[0;36m2\u001b[0m \u001b[0;34m*\u001b[0m \u001b[0mnp\u001b[0m\u001b[0;34m.\u001b[0m\u001b[0mpi\u001b[0m\u001b[0;34m,\u001b[0m \u001b[0;36m50\u001b[0m\u001b[0;34m,\u001b[0m \u001b[0;36m5\u001b[0m\u001b[0;34m,\u001b[0m \u001b[0mmonomial_base\u001b[0m\u001b[0;34m)\u001b[0m\u001b[0;34m\u001b[0m\u001b[0;34m\u001b[0m\u001b[0m\n\u001b[0m",
      "\u001b[0;31mTypeError\u001b[0m: exercise() missing 1 required positional argument: 'base'"
     ]
    }
   ],
   "source": [
    "exercise(-np.pi, 2 * np.pi, 50, 5, monomial_base)"
   ]
  },
  {
   "cell_type": "code",
   "execution_count": 104,
   "metadata": {},
   "outputs": [
    {
     "ename": "TypeError",
     "evalue": "exercise() missing 1 required positional argument: 'base'",
     "output_type": "error",
     "traceback": [
      "\u001b[0;31m---------------------------------------------------------------------------\u001b[0m",
      "\u001b[0;31mTypeError\u001b[0m                                 Traceback (most recent call last)",
      "\u001b[0;32m<ipython-input-104-16bd55c2af13>\u001b[0m in \u001b[0;36m<module>\u001b[0;34m\u001b[0m\n\u001b[0;32m----> 1\u001b[0;31m \u001b[0mexercise\u001b[0m\u001b[0;34m(\u001b[0m\u001b[0;34m-\u001b[0m\u001b[0mnp\u001b[0m\u001b[0;34m.\u001b[0m\u001b[0mpi\u001b[0m\u001b[0;34m,\u001b[0m \u001b[0;36m2\u001b[0m \u001b[0;34m*\u001b[0m \u001b[0mnp\u001b[0m\u001b[0;34m.\u001b[0m\u001b[0mpi\u001b[0m\u001b[0;34m,\u001b[0m \u001b[0;36m50\u001b[0m\u001b[0;34m,\u001b[0m \u001b[0;36m15\u001b[0m\u001b[0;34m,\u001b[0m \u001b[0mtrigonomerical_base\u001b[0m\u001b[0;34m)\u001b[0m\u001b[0;34m\u001b[0m\u001b[0;34m\u001b[0m\u001b[0m\n\u001b[0m",
      "\u001b[0;31mTypeError\u001b[0m: exercise() missing 1 required positional argument: 'base'"
     ]
    }
   ],
   "source": [
    "exercise(-np.pi, 2 * np.pi, 50, 15, trigonomerical_base)"
   ]
  },
  {
   "cell_type": "code",
   "execution_count": 106,
   "metadata": {},
   "outputs": [],
   "source": [
    "def read_data():\n",
    "    polynomial_errors = exercise_1()\n",
    "    # cubic = exercise_2()\n",
    "    polynomial_data = {}\n",
    "    outside = [] #list(polynomial_errors.keys())\n",
    "    for key in polynomial_errors[2]['Eukl'].keys():\n",
    "        outside += list(polynomial_errors.keys())\n",
    "    outside.sort()\n",
    "    inside = []\n",
    "    for key in polynomial_errors.keys():\n",
    "        inside += polynomial_errors[key]['Eukl'].keys()\n",
    "    hier_index = list(zip(outside, inside))\n",
    "    hier_index = pd.MultiIndex.from_tuples(hier_index)\n",
    "    print(outside, inside)\n",
    "    print(list(zip(outside, inside)))\n",
    "    print(hier_index)\n",
    "    #for key in polynomial_errors.keys():\n",
    "    #    polynomial_data[key] = pd.DataFrame(polynomial_errors[key])\n",
    "    data['Polynomial'] = pd.DataFrame(polynomial_data, index=hier_index)\n",
    "    # data['Cubic'] = pd.DataFrame(cubic)"
   ]
  },
  {
   "cell_type": "code",
   "execution_count": 107,
   "metadata": {},
   "outputs": [],
   "source": [
    "def exercise_polynomial(m):\n",
    "    a = -np.pi\n",
    "    b = 2 * np.pi\n",
    "    eukl_errors = {}\n",
    "    max_errors = {}\n",
    "    for n in range(20, 61, 20):\n",
    "        eukl_n, max_n = exercise(a, b, n, m, lambda x: 1, monomial_base)\n",
    "        eukl_errors[n] = eukl_n\n",
    "        max_errors[n] = max_n\n",
    "    polynomial_errors = {'Eukl': eukl_errors, 'Max': max_errors}\n",
    "    return polynomial_errors\n",
    "\n",
    "\n",
    "def exercise_trigonometrical(m):\n",
    "    a = -np.pi\n",
    "    b = 2 * np.pi\n",
    "    eukl_errors = {}\n",
    "    max_errors = {}\n",
    "    for n in range(30, 101, 30):\n",
    "        eukl_n, max_n = exercise(a, b, n, m, lambda x: 1, trigonometrical_base)\n",
    "        eukl_errors[n] = eukl_n\n",
    "        max_errors[n] = max_n\n",
    "    polynomial_errors = {'Eukl': eukl_errors, 'Max': max_errors}\n",
    "    return polynomial_errors\n",
    "\n",
    "\n",
    "def exercise_1():\n",
    "    errors = {}\n",
    "    for m in range(1, 11):\n",
    "        errors[m] = exercise_polynomial(m)\n",
    "    return errors\n",
    "\n",
    "\n",
    "def exercise_2():\n",
    "    errors = {}\n",
    "    for m in range(1, 26):\n",
    "        errors[m] = exercise_trigonometrical(m)\n",
    "    return errors"
   ]
  },
  {
   "cell_type": "code",
   "execution_count": 108,
   "metadata": {},
   "outputs": [],
   "source": [
    "data = {}"
   ]
  },
  {
   "cell_type": "code",
   "execution_count": 109,
   "metadata": {},
   "outputs": [
    {
     "name": "stdout",
     "output_type": "stream",
     "text": [
      "Stopień wielomianu (m): 1, liczba węzłów (n): 20\n"
     ]
    },
    {
     "ename": "NameError",
     "evalue": "name 'calculate_errors' is not defined",
     "output_type": "error",
     "traceback": [
      "\u001b[0;31m---------------------------------------------------------------------------\u001b[0m",
      "\u001b[0;31mNameError\u001b[0m                                 Traceback (most recent call last)",
      "\u001b[0;32m<ipython-input-109-d55ff03233c7>\u001b[0m in \u001b[0;36m<module>\u001b[0;34m\u001b[0m\n\u001b[0;32m----> 1\u001b[0;31m \u001b[0mread_data\u001b[0m\u001b[0;34m(\u001b[0m\u001b[0;34m)\u001b[0m\u001b[0;34m\u001b[0m\u001b[0;34m\u001b[0m\u001b[0m\n\u001b[0m",
      "\u001b[0;32m<ipython-input-106-58239bb40d6d>\u001b[0m in \u001b[0;36mread_data\u001b[0;34m()\u001b[0m\n\u001b[1;32m      1\u001b[0m \u001b[0;32mdef\u001b[0m \u001b[0mread_data\u001b[0m\u001b[0;34m(\u001b[0m\u001b[0;34m)\u001b[0m\u001b[0;34m:\u001b[0m\u001b[0;34m\u001b[0m\u001b[0;34m\u001b[0m\u001b[0m\n\u001b[0;32m----> 2\u001b[0;31m     \u001b[0mpolynomial_errors\u001b[0m \u001b[0;34m=\u001b[0m \u001b[0mexercise_1\u001b[0m\u001b[0;34m(\u001b[0m\u001b[0;34m)\u001b[0m\u001b[0;34m\u001b[0m\u001b[0;34m\u001b[0m\u001b[0m\n\u001b[0m\u001b[1;32m      3\u001b[0m     \u001b[0;31m# cubic = exercise_2()\u001b[0m\u001b[0;34m\u001b[0m\u001b[0;34m\u001b[0m\u001b[0;34m\u001b[0m\u001b[0m\n\u001b[1;32m      4\u001b[0m     \u001b[0mpolynomial_data\u001b[0m \u001b[0;34m=\u001b[0m \u001b[0;34m{\u001b[0m\u001b[0;34m}\u001b[0m\u001b[0;34m\u001b[0m\u001b[0;34m\u001b[0m\u001b[0m\n\u001b[1;32m      5\u001b[0m     \u001b[0moutside\u001b[0m \u001b[0;34m=\u001b[0m \u001b[0;34m[\u001b[0m\u001b[0;34m]\u001b[0m \u001b[0;31m#list(polynomial_errors.keys())\u001b[0m\u001b[0;34m\u001b[0m\u001b[0;34m\u001b[0m\u001b[0m\n",
      "\u001b[0;32m<ipython-input-107-6f1d92aff895>\u001b[0m in \u001b[0;36mexercise_1\u001b[0;34m()\u001b[0m\n\u001b[1;32m     28\u001b[0m     \u001b[0merrors\u001b[0m \u001b[0;34m=\u001b[0m \u001b[0;34m{\u001b[0m\u001b[0;34m}\u001b[0m\u001b[0;34m\u001b[0m\u001b[0;34m\u001b[0m\u001b[0m\n\u001b[1;32m     29\u001b[0m     \u001b[0;32mfor\u001b[0m \u001b[0mm\u001b[0m \u001b[0;32min\u001b[0m \u001b[0mrange\u001b[0m\u001b[0;34m(\u001b[0m\u001b[0;36m1\u001b[0m\u001b[0;34m,\u001b[0m \u001b[0;36m11\u001b[0m\u001b[0;34m)\u001b[0m\u001b[0;34m:\u001b[0m\u001b[0;34m\u001b[0m\u001b[0;34m\u001b[0m\u001b[0m\n\u001b[0;32m---> 30\u001b[0;31m         \u001b[0merrors\u001b[0m\u001b[0;34m[\u001b[0m\u001b[0mm\u001b[0m\u001b[0;34m]\u001b[0m \u001b[0;34m=\u001b[0m \u001b[0mexercise_polynomial\u001b[0m\u001b[0;34m(\u001b[0m\u001b[0mm\u001b[0m\u001b[0;34m)\u001b[0m\u001b[0;34m\u001b[0m\u001b[0;34m\u001b[0m\u001b[0m\n\u001b[0m\u001b[1;32m     31\u001b[0m     \u001b[0;32mreturn\u001b[0m \u001b[0merrors\u001b[0m\u001b[0;34m\u001b[0m\u001b[0;34m\u001b[0m\u001b[0m\n\u001b[1;32m     32\u001b[0m \u001b[0;34m\u001b[0m\u001b[0m\n",
      "\u001b[0;32m<ipython-input-107-6f1d92aff895>\u001b[0m in \u001b[0;36mexercise_polynomial\u001b[0;34m(m)\u001b[0m\n\u001b[1;32m      5\u001b[0m     \u001b[0mmax_errors\u001b[0m \u001b[0;34m=\u001b[0m \u001b[0;34m{\u001b[0m\u001b[0;34m}\u001b[0m\u001b[0;34m\u001b[0m\u001b[0;34m\u001b[0m\u001b[0m\n\u001b[1;32m      6\u001b[0m     \u001b[0;32mfor\u001b[0m \u001b[0mn\u001b[0m \u001b[0;32min\u001b[0m \u001b[0mrange\u001b[0m\u001b[0;34m(\u001b[0m\u001b[0;36m20\u001b[0m\u001b[0;34m,\u001b[0m \u001b[0;36m61\u001b[0m\u001b[0;34m,\u001b[0m \u001b[0;36m20\u001b[0m\u001b[0;34m)\u001b[0m\u001b[0;34m:\u001b[0m\u001b[0;34m\u001b[0m\u001b[0;34m\u001b[0m\u001b[0m\n\u001b[0;32m----> 7\u001b[0;31m         \u001b[0meukl_n\u001b[0m\u001b[0;34m,\u001b[0m \u001b[0mmax_n\u001b[0m \u001b[0;34m=\u001b[0m \u001b[0mexercise\u001b[0m\u001b[0;34m(\u001b[0m\u001b[0ma\u001b[0m\u001b[0;34m,\u001b[0m \u001b[0mb\u001b[0m\u001b[0;34m,\u001b[0m \u001b[0mn\u001b[0m\u001b[0;34m,\u001b[0m \u001b[0mm\u001b[0m\u001b[0;34m,\u001b[0m \u001b[0;32mlambda\u001b[0m \u001b[0mx\u001b[0m\u001b[0;34m:\u001b[0m \u001b[0;36m1\u001b[0m\u001b[0;34m,\u001b[0m \u001b[0mmonomial_base\u001b[0m\u001b[0;34m)\u001b[0m\u001b[0;34m\u001b[0m\u001b[0;34m\u001b[0m\u001b[0m\n\u001b[0m\u001b[1;32m      8\u001b[0m         \u001b[0meukl_errors\u001b[0m\u001b[0;34m[\u001b[0m\u001b[0mn\u001b[0m\u001b[0;34m]\u001b[0m \u001b[0;34m=\u001b[0m \u001b[0meukl_n\u001b[0m\u001b[0;34m\u001b[0m\u001b[0;34m\u001b[0m\u001b[0m\n\u001b[1;32m      9\u001b[0m         \u001b[0mmax_errors\u001b[0m\u001b[0;34m[\u001b[0m\u001b[0mn\u001b[0m\u001b[0;34m]\u001b[0m \u001b[0;34m=\u001b[0m \u001b[0mmax_n\u001b[0m\u001b[0;34m\u001b[0m\u001b[0;34m\u001b[0m\u001b[0m\n",
      "\u001b[0;32m<ipython-input-102-20c6c73ce22a>\u001b[0m in \u001b[0;36mexercise\u001b[0;34m(a, b, n, m, wage, base)\u001b[0m\n\u001b[1;32m     11\u001b[0m     \u001b[0my_print\u001b[0m \u001b[0;34m=\u001b[0m \u001b[0mf\u001b[0m\u001b[0;34m(\u001b[0m\u001b[0mx_print\u001b[0m\u001b[0;34m)\u001b[0m\u001b[0;34m\u001b[0m\u001b[0;34m\u001b[0m\u001b[0m\n\u001b[1;32m     12\u001b[0m     \u001b[0mp_print\u001b[0m \u001b[0;34m=\u001b[0m \u001b[0mapproximate\u001b[0m\u001b[0;34m(\u001b[0m\u001b[0mm\u001b[0m\u001b[0;34m,\u001b[0m \u001b[0mx_print\u001b[0m\u001b[0;34m,\u001b[0m \u001b[0mx_approx\u001b[0m\u001b[0;34m,\u001b[0m \u001b[0my_approx\u001b[0m\u001b[0;34m,\u001b[0m \u001b[0mwage_fun\u001b[0m\u001b[0;34m=\u001b[0m\u001b[0mwage\u001b[0m\u001b[0;34m,\u001b[0m \u001b[0mbase_generator\u001b[0m\u001b[0;34m=\u001b[0m\u001b[0mbase\u001b[0m\u001b[0;34m)\u001b[0m\u001b[0;34m\u001b[0m\u001b[0;34m\u001b[0m\u001b[0m\n\u001b[0;32m---> 13\u001b[0;31m     \u001b[0meukl_n\u001b[0m\u001b[0;34m,\u001b[0m \u001b[0mmax_n\u001b[0m \u001b[0;34m=\u001b[0m \u001b[0mcalculate_errors\u001b[0m\u001b[0;34m(\u001b[0m\u001b[0my_print\u001b[0m\u001b[0;34m,\u001b[0m \u001b[0mp_print\u001b[0m\u001b[0;34m)\u001b[0m\u001b[0;34m\u001b[0m\u001b[0;34m\u001b[0m\u001b[0m\n\u001b[0m\u001b[1;32m     14\u001b[0m     \u001b[0mprint_errors\u001b[0m\u001b[0;34m(\u001b[0m\u001b[0meukl_n\u001b[0m\u001b[0;34m,\u001b[0m \u001b[0mmax_n\u001b[0m\u001b[0;34m)\u001b[0m\u001b[0;34m\u001b[0m\u001b[0;34m\u001b[0m\u001b[0m\n\u001b[1;32m     15\u001b[0m     \u001b[0mprint_plots\u001b[0m\u001b[0;34m(\u001b[0m\u001b[0mx_approx\u001b[0m\u001b[0;34m,\u001b[0m \u001b[0mx_print\u001b[0m\u001b[0;34m,\u001b[0m \u001b[0my_approx\u001b[0m\u001b[0;34m,\u001b[0m \u001b[0my_print\u001b[0m\u001b[0;34m,\u001b[0m \u001b[0mp_print\u001b[0m\u001b[0;34m,\u001b[0m \u001b[0mplot_name\u001b[0m\u001b[0;34m)\u001b[0m\u001b[0;34m\u001b[0m\u001b[0;34m\u001b[0m\u001b[0m\n",
      "\u001b[0;31mNameError\u001b[0m: name 'calculate_errors' is not defined"
     ]
    }
   ],
   "source": [
    "read_data()"
   ]
  },
  {
   "cell_type": "code",
   "execution_count": null,
   "metadata": {},
   "outputs": [],
   "source": []
  }
 ],
 "metadata": {
  "kernelspec": {
   "display_name": "Python 3",
   "language": "python",
   "name": "python3"
  },
  "language_info": {
   "codemirror_mode": {
    "name": "ipython",
    "version": 3
   },
   "file_extension": ".py",
   "mimetype": "text/x-python",
   "name": "python",
   "nbconvert_exporter": "python",
   "pygments_lexer": "ipython3",
   "version": "3.7.1"
  }
 },
 "nbformat": 4,
 "nbformat_minor": 2
}
