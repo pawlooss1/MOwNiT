{
 "cells": [
  {
   "cell_type": "code",
   "execution_count": 20,
   "metadata": {},
   "outputs": [],
   "source": [
    "import numpy as np\n",
    "import matplotlib.pyplot as plt\n",
    "from scipy.linalg import solve_banded"
   ]
  },
  {
   "cell_type": "code",
   "execution_count": 3,
   "metadata": {},
   "outputs": [],
   "source": [
    "def euler(f, n, a, b, xa):\n",
    "    result = np.empty((n + 1,))\n",
    "    h = (b - a) / n\n",
    "    x = xa\n",
    "    t = a\n",
    "    for i in range(n):\n",
    "        result[i] = x\n",
    "        x = x + h * f(t, x)\n",
    "        t = t + h\n",
    "    result[n] = x\n",
    "    return result"
   ]
  },
  {
   "cell_type": "code",
   "execution_count": 4,
   "metadata": {},
   "outputs": [],
   "source": [
    "def runge_kutta(f, n, a, b, xa):\n",
    "    result = np.empty((n + 1,))\n",
    "    h = (b - a) / n\n",
    "    x = xa\n",
    "    t = a\n",
    "    for i in range(n):\n",
    "        result[i] = x\n",
    "        k1 = h * f(t, x)\n",
    "        k2 = h * f(t + h / 2, x + k1 / 2)\n",
    "        k3 = h * f(t + h / 2, x + k2 / 2)\n",
    "        k4 = h * f(t + h, x + k3)\n",
    "        x = x + (k1 + 2 * k2 + 2 * k3 + k4) / 6\n",
    "        t = a + (i + 1) * h\n",
    "    result[n] = x\n",
    "    return result"
   ]
  },
  {
   "cell_type": "code",
   "execution_count": 66,
   "metadata": {},
   "outputs": [],
   "source": [
    "def bvp(u, v, w, n, ta, tb, xa, xb):\n",
    "    h = (tb - ta) / n\n",
    "    a = np.empty(n + 1)\n",
    "    b = np.empty(n + 1)\n",
    "    c = np.empty(n + 1)\n",
    "    d = np.empty(n + 1)\n",
    "    for i in range(1, n):\n",
    "        t = ta + i * h\n",
    "        a[i] = -(1 + h / 2 * w(t))\n",
    "        d[i] = 2 + h**2 * v(t)\n",
    "        c[i] = -(1 - h / 2 * w(t))\n",
    "        b[i] = -h**2 * u(t)\n",
    "    b[1] = b[1] - a[1] * xa\n",
    "    b[n - 1] = b[n - 1] - c[n - 1] * xb\n",
    "    #return a[2:n+1].tolist(), d[1:n].tolist(), c[0:n-1].tolist(), b[1:n].tolist()\n",
    "    banded = np.array([c[0:n-1], d[1:n], a[2:n+1]], dtype=np.float64)\n",
    "    y = solve_banded((1,1), banded, b[1:n])\n",
    "    return np.concatenate(([xa], y, [xb]))"
   ]
  },
  {
   "cell_type": "code",
   "execution_count": 73,
   "metadata": {},
   "outputs": [
    {
     "data": {
      "text/plain": [
       "[<matplotlib.lines.Line2D at 0x7f47547056a0>]"
      ]
     },
     "execution_count": 73,
     "metadata": {},
     "output_type": "execute_result"
    },
    {
     "data": {
      "image/png": "[encoded data removed]",
      "text/plain": [
       "<Figure size 432x288 with 1 Axes>"
      ]
     },
     "metadata": {
      "needs_background": "light"
     },
     "output_type": "display_data"
    }
   ],
   "source": [
    "ux = lambda x: np.exp(x) - 3 * np.sin(x)\n",
    "vx = lambda x: -1\n",
    "wx = lambda x: 1\n",
    "n = 999\n",
    "ta = 1\n",
    "tb = 20\n",
    "xa = 1.09737491\n",
    "xb = 8.63749661\n",
    "x = np.linspace(1, 2, 1000)\n",
    "y = bvp(ux, vx, wx, n, ta, tb, xa, xb)\n",
    "plt.plot(x, y)"
   ]
  },
  {
   "cell_type": "code",
   "execution_count": 5,
   "metadata": {
    "scrolled": true
   },
   "outputs": [
    {
     "data": {
      "text/plain": [
       "array([1.        , 1.02      , 1.0404    , 1.061208  , 1.08243216,\n",
       "       1.1040808 , 1.12616242, 1.14868567, 1.17165938, 1.19509257,\n",
       "       1.21899442, 1.24337431, 1.26824179, 1.29360663, 1.31947876,\n",
       "       1.34586834, 1.37278571, 1.40024142, 1.42824625, 1.45681117,\n",
       "       1.4859474 , 1.51566634, 1.54597967, 1.57689926, 1.60843725,\n",
       "       1.64060599, 1.67341811, 1.70688648, 1.74102421, 1.77584469,\n",
       "       1.81136158, 1.84758882, 1.88454059, 1.9222314 , 1.96067603,\n",
       "       1.99988955, 2.03988734, 2.08068509, 2.12229879, 2.16474477,\n",
       "       2.20803966, 2.25220046, 2.29724447, 2.34318936, 2.39005314,\n",
       "       2.43785421, 2.48661129, 2.53634352, 2.58707039, 2.63881179,\n",
       "       2.69158803, 2.74541979, 2.80032819, 2.85633475, 2.91346144,\n",
       "       2.97173067, 3.03116529, 3.09178859, 3.15362436, 3.21669685,\n",
       "       3.28103079, 3.3466514 , 3.41358443, 3.48185612, 3.55149324,\n",
       "       3.62252311, 3.69497357, 3.76887304, 3.8442505 , 3.92113551,\n",
       "       3.99955822, 4.07954939, 4.16114038, 4.24436318, 4.32925045,\n",
       "       4.41583546, 4.50415216, 4.59423521, 4.68611991, 4.77984231,\n",
       "       4.87543916, 4.97294794, 5.0724069 , 5.17385504, 5.27733214,\n",
       "       5.38287878, 5.49053636, 5.60034708, 5.71235402, 5.8266011 ,\n",
       "       5.94313313, 6.06199579, 6.1832357 , 6.30690042, 6.43303843,\n",
       "       6.5616992 , 6.69293318, 6.82679184, 6.96332768, 7.10259423,\n",
       "       7.24464612])"
      ]
     },
     "execution_count": 5,
     "metadata": {},
     "output_type": "execute_result"
    },
    {
     "data": {
      "image/png": "[encoded data removed]",
      "text/plain": [
       "<Figure size 432x288 with 1 Axes>"
      ]
     },
     "metadata": {
      "needs_background": "light"
     },
     "output_type": "display_data"
    }
   ],
   "source": [
    "x = np.linspace(0, 2, 101)\n",
    "y = euler(lambda t, x: x, 100, 0, 2, 1)\n",
    "plt.plot(x, y, '.')\n",
    "y"
   ]
  },
  {
   "cell_type": "code",
   "execution_count": 6,
   "metadata": {
    "scrolled": true
   },
   "outputs": [
    {
     "data": {
      "text/plain": [
       "array([1.        , 1.02020134, 1.04081077, 1.06183655, 1.08328707,\n",
       "       1.10517092, 1.12749685, 1.1502738 , 1.17351087, 1.19721736,\n",
       "       1.22140276, 1.24607673, 1.27124915, 1.29693009, 1.32312981,\n",
       "       1.34985881, 1.37712776, 1.40494759, 1.43332941, 1.46228459,\n",
       "       1.4918247 , 1.52196155, 1.55270722, 1.58407398, 1.6160744 ,\n",
       "       1.64872127, 1.68202765, 1.71600686, 1.7506725 , 1.78603843,\n",
       "       1.8221188 , 1.85892804, 1.89648088, 1.93479233, 1.97387773,\n",
       "       2.01375271, 2.05443321, 2.09593551, 2.13827622, 2.18147226,\n",
       "       2.22554093, 2.27049984, 2.31636697, 2.36316069, 2.4108997 ,\n",
       "       2.45960311, 2.50929039, 2.55998142, 2.61169647, 2.66445624,\n",
       "       2.71828182, 2.77319476, 2.82921701, 2.88637099, 2.94467955,\n",
       "       3.00416602, 3.0648542 , 3.12676836, 3.18993327, 3.2543742 ,\n",
       "       3.32011692, 3.38718773, 3.45561346, 3.52542148, 3.59663972,\n",
       "       3.66929666, 3.74342137, 3.8190435 , 3.89619329, 3.97490162,\n",
       "       4.05519996, 4.13712043, 4.22069581, 4.30595952, 4.39294567,\n",
       "       4.48168906, 4.57222519, 4.66459026, 4.75882124, 4.8549558 ,\n",
       "       4.95303241, 5.05309031, 5.1551695 , 5.25931083, 5.36555596,\n",
       "       5.47394738, 5.58452845, 5.69734341, 5.81243738, 5.9298564 ,\n",
       "       6.04964745, 6.17185844, 6.29653825, 6.42373676, 6.55350485,\n",
       "       6.68589443, 6.82095845, 6.95875095, 7.09932705, 7.24274297,\n",
       "       7.38905608])"
      ]
     },
     "execution_count": 6,
     "metadata": {},
     "output_type": "execute_result"
    },
    {
     "data": {
      "image/png": "[encoded data removed]",
      "text/plain": [
       "<Figure size 432x288 with 1 Axes>"
      ]
     },
     "metadata": {
      "needs_background": "light"
     },
     "output_type": "display_data"
    }
   ],
   "source": [
    "x = np.linspace(0, 2, 101)\n",
    "y = runge_kutta(lambda t, x: x, 100, 0, 2, 1)\n",
    "plt.plot(x, y, '.')\n",
    "y"
   ]
  },
  {
   "cell_type": "code",
   "execution_count": 7,
   "metadata": {
    "scrolled": true
   },
   "outputs": [
    {
     "data": {
      "text/plain": [
       "array([2.        , 2.01562516, 2.03125127, 2.04687929, 2.06251018,\n",
       "       2.07814488, 2.09378436, 2.10942958, 2.12508151, 2.1407411 ,\n",
       "       2.15640933, 2.17208718, 2.18777563, 2.20347565, 2.21918824,\n",
       "       2.23491441, 2.25065514, 2.26641145, 2.28218436, 2.2979749 ,\n",
       "       2.31378411, 2.32961302, 2.34546269, 2.3613342 , 2.37722861,\n",
       "       2.39314702, 2.40909052, 2.42506023, 2.44105728, 2.45708281,\n",
       "       2.47313798, 2.48922395, 2.50534192, 2.5214931 , 2.5376787 ,\n",
       "       2.55389997, 2.57015817, 2.58645459, 2.60279052, 2.61916729,\n",
       "       2.63558624, 2.65204876, 2.66855623, 2.68511007, 2.70171174,\n",
       "       2.7183627 , 2.73506447, 2.75181857, 2.76862658, 2.78549008,\n",
       "       2.80241071, 2.81939013, 2.83643005, 2.8535322 , 2.87069836,\n",
       "       2.88793035, 2.90523003, 2.92259929, 2.9400401 , 2.95755444,\n",
       "       2.97514436, 2.99281195, 3.01055936, 3.02838878, 3.04630249,\n",
       "       3.06430279, 3.08239207, 3.10057276, 3.11884737, 3.13721848,\n",
       "       3.15568874, 3.17426087, 3.19293767])"
      ]
     },
     "execution_count": 7,
     "metadata": {},
     "output_type": "execute_result"
    },
    {
     "data": {
      "image/png": "[encoded data removed]",
      "text/plain": [
       "<Figure size 432x288 with 1 Axes>"
      ]
     },
     "metadata": {
      "needs_background": "light"
     },
     "output_type": "display_data"
    }
   ],
   "source": [
    "x = np.linspace(0, 2, 73)\n",
    "y = runge_kutta(lambda t, x: 2 + (x - t - 1)**2, 72, 1, 1.5625, 2)\n",
    "plt.plot(x, y, '.')\n",
    "y"
   ]
  },
  {
   "cell_type": "code",
   "execution_count": 42,
   "metadata": {},
   "outputs": [
    {
     "data": {
      "text/plain": [
       "array([[100,   0,  -1,  -1,  -1],\n",
       "       [  0,   2,   2,   2,   2],\n",
       "       [  5,   4,   3,   2,   1],\n",
       "       [  1,   1,   1,   1,   0]])"
      ]
     },
     "execution_count": 42,
     "metadata": {},
     "output_type": "execute_result"
    }
   ],
   "source": [
    "from scipy.linalg import solve_banded\n",
    "a = [100,  0, -1, -1, -1]\n",
    "b = [0,  2,  2,  2,  2]\n",
    "c = [5,  4,  3,  2,  1]\n",
    "d = [1,  1,  1,  1,  0]\n",
    "ab = np.array([a,b,c,d])\n",
    "b = np.array([0, 1, 2, 2, 3])\n",
    "x = solve_banded((1, 2), ab, b)\n",
    "ab"
   ]
  },
  {
   "cell_type": "code",
   "execution_count": 65,
   "metadata": {},
   "outputs": [
    {
     "data": {
      "text/plain": [
       "array([1, 2, 3, 4, 2])"
      ]
     },
     "execution_count": 65,
     "metadata": {},
     "output_type": "execute_result"
    }
   ],
   "source": [
    "a = np.array([2,3,4])\n",
    "b = np.array([1])\n",
    "np.concatenate((b, a, [2]))"
   ]
  }
 ],
 "metadata": {
  "kernelspec": {
   "display_name": "Python 3",
   "language": "python",
   "name": "python3"
  },
  "language_info": {
   "codemirror_mode": {
    "name": "ipython",
    "version": 3
   },
   "file_extension": ".py",
   "mimetype": "text/x-python",
   "name": "python",
   "nbconvert_exporter": "python",
   "pygments_lexer": "ipython3",
   "version": "3.7.1"
  }
 },
 "nbformat": 4,
 "nbformat_minor": 2
}
