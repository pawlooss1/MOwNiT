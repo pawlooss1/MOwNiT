{
 "cells": [
  {
   "cell_type": "code",
   "execution_count": 1,
   "metadata": {},
   "outputs": [],
   "source": [
    "import numpy as np\n",
    "import matplotlib.pyplot as plt"
   ]
  },
  {
   "cell_type": "code",
   "execution_count": 26,
   "metadata": {},
   "outputs": [],
   "source": [
    "POINTS = 500"
   ]
  },
  {
   "cell_type": "code",
   "execution_count": 27,
   "metadata": {},
   "outputs": [],
   "source": [
    "def f(x):\n",
    "    return np.sin(2*x) * np.sin(x**2/np.pi)"
   ]
  },
  {
   "cell_type": "code",
   "execution_count": 28,
   "metadata": {},
   "outputs": [],
   "source": [
    "def calculate_coefficient_z_i1(z_i, t_i, t_i1, y_i, y_i1):\n",
    "    # t_i, t_i1 - interpolation nodes, y - values in those nodes, z_i - previous coefficient\n",
    "    return -z_i + 2 * (y_i1 - y_i) / (t_i1 - t_i)"
   ]
  },
  {
   "cell_type": "code",
   "execution_count": 29,
   "metadata": {},
   "outputs": [],
   "source": [
    "def calculate_coefficients_q(z0, t, y):\n",
    "    n = len(t)\n",
    "    z = np.empty(n)\n",
    "    z[0] = z0\n",
    "    for i in range(n-1):\n",
    "        z[i + 1] = calculate_coefficient_z_i1(z[i], t[i], t[i + 1], y[i], y[i + 1])\n",
    "    return z"
   ]
  },
  {
   "cell_type": "code",
   "execution_count": 30,
   "metadata": {},
   "outputs": [],
   "source": [
    "def compute_Qi(i, z, t, y):\n",
    "    a = (z[i + 1] - z[i]) / (2 * (t[i+1] - t[i]))\n",
    "    b = z[i]\n",
    "    c = y[i]\n",
    "    return lambda x: a * (x - t[i]) ** 2 + b * (x - t[i]) + c"
   ]
  },
  {
   "cell_type": "code",
   "execution_count": 55,
   "metadata": {},
   "outputs": [],
   "source": [
    "def Q(x, z, t, y):\n",
    "    indexes = np.searchsorted(t, x) - 1\n",
    "    if indexes[0] == -1:\n",
    "        indexes[0] = 0\n",
    "    Qi = compute_Qi(indexes, z, t, y)\n",
    "    return Qi(x)"
   ]
  },
  {
   "cell_type": "code",
   "execution_count": 32,
   "metadata": {},
   "outputs": [],
   "source": [
    "def quadratic_spline_interpolation(t, y, z0):\n",
    "    z = calculate_coefficients_q(z0, t, y)\n",
    "    return lambda x: Q(x, z, t, y)"
   ]
  },
  {
   "cell_type": "code",
   "execution_count": 111,
   "metadata": {},
   "outputs": [],
   "source": [
    "def create_equation_system(n, t):\n",
    "    result = np.empty((n,n))\n",
    "    for row in range(n):\n",
    "        for column in range(n):\n",
    "            if abs(row - column) > 1: # banded matrix\n",
    "                result[row][column] =  0\n",
    "            elif row == 0:              # edge cases\n",
    "                if column == 0:\n",
    "                    result[row][column] = 1\n",
    "                result[row][column] = 0\n",
    "            elif row == n - 1:\n",
    "                if column == n - 1:\n",
    "                    result[row][column] =  1\n",
    "                result[row][column] = 0\n",
    "            elif row - column == 1:      # lower diagonal\n",
    "                result[row][column] = t[row] - t[column]\n",
    "            elif row - column == 0:      # diagonal\n",
    "                result[row][column] = 2 * (t[row+1] - t[row-1])\n",
    "            elif row - column == 1:      #upper diagonal\n",
    "                result[row][column] = t[column] - t[row]\n",
    "    return result"
   ]
  },
  {
   "cell_type": "code",
   "execution_count": 92,
   "metadata": {},
   "outputs": [],
   "source": [
    "def create_right_side_vector(n, z0, t, y):\n",
    "    result = np.empty((n,))\n",
    "    result[0] = z0\n",
    "    result[n-1] = z0\n",
    "    for i in range(1,n-1):\n",
    "        result[i] = 6 * ((y[i+1] - y[i]) / (t[i+1] - t[i]) - (y[i] - y[i-1]) / (t[i] - t[i-1]))\n",
    "    return result"
   ]
  },
  {
   "cell_type": "code",
   "execution_count": 117,
   "metadata": {},
   "outputs": [],
   "source": [
    "def calculate_coefficients_c(z0, t, y):\n",
    "    n = len(t)\n",
    "    z = np.empty((n,))\n",
    "    h = np.empty((n - 1, ))\n",
    "    b = np.empty((n - 1, ))\n",
    "    u = np.empty((n - 1, ))\n",
    "    v = np.empty((n - 1, ))\n",
    "    for i in range(n - 1):\n",
    "        h[i] = t[i+1] - y[i]\n",
    "        b[i] = (y[i+1] - y[i]) / h[i]\n",
    "    u[1] = 2 * (h[1] + h[0])\n",
    "    v[1] = 6 * (b[1] - b[0])\n",
    "    for i in range(2, n - 1):\n",
    "        u[i] = 2 * (h[i] + h[i-1]) - h[i-1]**2 / u[i-1]\n",
    "        v[i] = 6 * (b[i] - h[i-1]) - h[i-1] * v[i-1] / u[i-1]\n",
    "    z[n-1] = z0\n",
    "    for i in range(n - 2, 0, -1):\n",
    "        z[i] = (v[i] - h[i] * z[i+1]) / u[i]\n",
    "    z[0] = z0\n",
    "    return z"
   ]
  },
  {
   "cell_type": "code",
   "execution_count": 94,
   "metadata": {},
   "outputs": [],
   "source": [
    "def compute_Si(i, z, t, y):\n",
    "    h = t[i+1] - t[i]\n",
    "    a = z[i+1] / (6 * h)\n",
    "    b = z[i] / (6 * h)\n",
    "    c = y[i+1] / h - h * z[i+1] / 6\n",
    "    d = y[i] / h - h * z[i] / 6\n",
    "    return lambda x: a * (x - t[i])**3 + b * (t[i+1] - x)** 3 + c * (x - t[i]) + d * (t[i+1] - x)"
   ]
  },
  {
   "cell_type": "code",
   "execution_count": 95,
   "metadata": {},
   "outputs": [],
   "source": [
    "def S(x, z, t, y):\n",
    "    indexes = np.searchsorted(t, x) - 1\n",
    "    if indexes[0] == -1:\n",
    "        indexes[0] = 0\n",
    "    Si = compute_Si(indexes, z, t, y)\n",
    "    return Si(x)"
   ]
  },
  {
   "cell_type": "code",
   "execution_count": 116,
   "metadata": {},
   "outputs": [],
   "source": [
    "def cubic_spline_interpolation(t, y, z0):\n",
    "    z = calculate_coefficients_c(z0, t, y)\n",
    "    return lambda x: S(x, z, t, y)"
   ]
  },
  {
   "cell_type": "code",
   "execution_count": 97,
   "metadata": {},
   "outputs": [],
   "source": [
    "def interpolate(x_print, spline_polynomial):\n",
    "    return spline_polynomial(x_print)"
   ]
  },
  {
   "cell_type": "code",
   "execution_count": 98,
   "metadata": {},
   "outputs": [],
   "source": [
    "def exercise(a, b, n, z0, spline_type='drugi'):\n",
    "    print(\"Stopień: {0:s}, liczba węzłów: {1:d}\".format(spline_type, n))\n",
    "    if spline_type == 'drugi':\n",
    "        spline_fun = quadratic_spline_interpolation\n",
    "    else:\n",
    "        spline_fun = cubic_spline_interpolation\n",
    "    x_inter = np.linspace(a, b, n)\n",
    "    x_print = np.linspace(a, b, POINTS)\n",
    "    y_inter = f(x_inter)\n",
    "    y_print = f(x_print)\n",
    "    p_print = interpolate(x_print, spline_fun(x_inter, y_inter, z0))\n",
    "    print_errors(y_print, p_print)\n",
    "    print_plots(x_inter, x_print, y_inter, y_print, p_print)"
   ]
  },
  {
   "cell_type": "code",
   "execution_count": 99,
   "metadata": {},
   "outputs": [],
   "source": [
    "def print_errors(y_print, p_print):\n",
    "    print('Błąd interpolacji(norma euklidesowa):', np.linalg.norm(y_print-p_print) / POINTS)\n",
    "    print('Błąd interpolacji(norma maksimum):', np.linalg.norm(y_print-p_print, ord=np.inf))"
   ]
  },
  {
   "cell_type": "code",
   "execution_count": 100,
   "metadata": {},
   "outputs": [],
   "source": [
    "def print_plots(x_inter, x_print, y_inter, y_print, p_print):\n",
    "    fig = plt.figure()\n",
    "    ax = fig.add_axes([0, 0, 1, 1])\n",
    "    ax.plot(x_print, p_print, label=\"W(x)\")\n",
    "    ax.plot(x_print, y_print, label=\"f(x)\")\n",
    "    ax.plot(x_inter, y_inter, '*', label='Węzły interpolacji')\n",
    "    ax.set_title('elo')\n",
    "    ax.set_ylabel('y')\n",
    "    ax.set_xlabel('x')\n",
    "    ax.legend()\n",
    "    plt.show()"
   ]
  },
  {
   "cell_type": "code",
   "execution_count": 118,
   "metadata": {},
   "outputs": [
    {
     "name": "stdout",
     "output_type": "stream",
     "text": [
      "Stopień: trzeci, liczba węzłów: 10\n",
      "Błąd interpolacji(norma euklidesowa): 0.01563723519437707\n",
      "Błąd interpolacji(norma maksimum): 0.980093369500881\n"
     ]
    },
    {
     "data": {
      "image/png": "[encoded data removed]",
      "text/plain": [
       "<Figure size 432x288 with 1 Axes>"
      ]
     },
     "metadata": {
      "needs_background": "light"
     },
     "output_type": "display_data"
    }
   ],
   "source": [
    "exercise(-np.pi, 2*np.pi, 10, 0, 'trzeci')"
   ]
  },
  {
   "cell_type": "code",
   "execution_count": null,
   "metadata": {},
   "outputs": [],
   "source": []
  }
 ],
 "metadata": {
  "kernelspec": {
   "display_name": "Python 3",
   "language": "python",
   "name": "python3"
  },
  "language_info": {
   "codemirror_mode": {
    "name": "ipython",
    "version": 3
   },
   "file_extension": ".py",
   "mimetype": "text/x-python",
   "name": "python",
   "nbconvert_exporter": "python",
   "pygments_lexer": "ipython3",
   "version": "3.7.1"
  }
 },
 "nbformat": 4,
 "nbformat_minor": 2
}
